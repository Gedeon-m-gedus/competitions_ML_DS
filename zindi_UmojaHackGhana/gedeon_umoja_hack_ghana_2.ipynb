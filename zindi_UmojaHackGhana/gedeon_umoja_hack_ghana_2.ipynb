{
 "cells": [
  {
   "cell_type": "code",
   "execution_count": 13,
   "metadata": {},
   "outputs": [],
   "source": [
    "#Import some libraries\n",
    "import pandas as pd\n",
    "import numpy as np\n",
    "import matplotlib.pyplot as plt\n",
    "from pylab import rcParams\n",
    "import seaborn as sb\n",
    "sb.set_style('darkgrid')\n",
    "rcParams['figure.figsize'] = 8,8\n",
    "import warnings\n",
    "warnings.filterwarnings(\"ignore\")\n",
    "%matplotlib inline"
   ]
  },
  {
   "cell_type": "code",
   "execution_count": 14,
   "metadata": {},
   "outputs": [],
   "source": [
    "np.random.seed(0)"
   ]
  },
  {
   "cell_type": "code",
   "execution_count": 15,
   "metadata": {},
   "outputs": [],
   "source": [
    "#import data\n",
    "train = pd.read_csv('Train.csv')\n",
    "test=  pd.read_csv('Test.csv')\n",
    "submission = pd.read_csv('SampleSubmission.csv')"
   ]
  },
  {
   "cell_type": "code",
   "execution_count": 16,
   "metadata": {},
   "outputs": [
    {
     "name": "stdout",
     "output_type": "stream",
     "text": [
      "(2154048, 17)\n",
      "(2154048,)\n",
      "(380127, 17)\n"
     ]
    }
   ],
   "source": [
    "dropcols = ['user_id', 'CHURN']\n",
    "y = train['CHURN']\n",
    "x = train.drop(columns=dropcols, axis=1)\n",
    "test = test.drop(columns=['user_id'], axis=1) #you will use this for predicting and submitting the resulting\n",
    "print(x.shape)\n",
    "print(y.shape)\n",
    "print(test.shape)"
   ]
  },
  {
   "cell_type": "code",
   "execution_count": 17,
   "metadata": {},
   "outputs": [
    {
     "data": {
      "text/plain": [
       "(380127, 17)"
      ]
     },
     "execution_count": 17,
     "metadata": {},
     "output_type": "execute_result"
    }
   ],
   "source": [
    "test.shape"
   ]
  },
  {
   "cell_type": "code",
   "execution_count": 18,
   "metadata": {},
   "outputs": [
    {
     "data": {
      "text/plain": [
       "(2154048, 19)"
      ]
     },
     "execution_count": 18,
     "metadata": {},
     "output_type": "execute_result"
    }
   ],
   "source": [
    "train.shape"
   ]
  },
  {
   "cell_type": "code",
   "execution_count": 19,
   "metadata": {},
   "outputs": [],
   "source": [
    "full_data = pd.concat([x,test])"
   ]
  },
  {
   "cell_type": "code",
   "execution_count": 20,
   "metadata": {},
   "outputs": [
    {
     "data": {
      "text/plain": [
       "(2534175, 17)"
      ]
     },
     "execution_count": 20,
     "metadata": {},
     "output_type": "execute_result"
    }
   ],
   "source": [
    "full_data.shape"
   ]
  },
  {
   "cell_type": "code",
   "execution_count": 21,
   "metadata": {},
   "outputs": [],
   "source": [
    "full_data.drop(columns=['REGION', 'MRG', 'TOP_PACK'], inplace=True)\n",
    "full_data['MONTANT'].fillna((train['MONTANT'].mean()), inplace=True)\n",
    "full_data['FREQUENCE_RECH'].fillna((train['FREQUENCE_RECH'].mean()), inplace=True)\n",
    "full_data['REVENUE'].fillna((train['REVENUE'].mean()), inplace=True)\n",
    "full_data['ARPU_SEGMENT'].fillna((train['ARPU_SEGMENT'].mean()), inplace=True)\n",
    "full_data['FREQUENCE'].fillna((train['FREQUENCE'].mean()), inplace=True)\n",
    "full_data['DATA_VOLUME'].fillna((train['DATA_VOLUME'].mean()), inplace=True)\n",
    "full_data['ON_NET'].fillna((train['ON_NET'].mean()), inplace=True)\n",
    "full_data['ORANGE'].fillna((train['ORANGE'].mean()), inplace=True)\n",
    "full_data['TIGO'].fillna((train['TIGO'].mean()), inplace=True)\n",
    "full_data['ZONE1'].fillna((train['ZONE1'].mean()), inplace=True)\n",
    "full_data['ZONE2'].fillna((train['ZONE2'].mean()), inplace=True)\n",
    "full_data['FREQ_TOP_PACK'].fillna((train['FREQ_TOP_PACK'].mean()), inplace=True)"
   ]
  },
  {
   "cell_type": "code",
   "execution_count": 22,
   "metadata": {},
   "outputs": [],
   "source": [
    "from sklearn.model_selection import train_test_split,cross_val_score\n",
    "from sklearn.metrics import accuracy_score,confusion_matrix,recall_score,precision_recall_curve, f1_score\n",
    "from sklearn.preprocessing import StandardScaler\n",
    "from sklearn.ensemble import RandomForestClassifier\n",
    "from sklearn.preprocessing import LabelEncoder"
   ]
  },
  {
   "cell_type": "code",
   "execution_count": 23,
   "metadata": {},
   "outputs": [],
   "source": [
    "num_cols = [\"TENURE\",'MONTANT', 'FREQUENCE_RECH', 'REVENUE', 'ARPU_SEGMENT', 'FREQUENCE',\n",
    "       'DATA_VOLUME', 'ON_NET', 'ORANGE', 'TIGO', 'ZONE1', 'ZONE2',\n",
    "       'REGULARITY', 'FREQ_TOP_PACK']"
   ]
  },
  {
   "cell_type": "code",
   "execution_count": 24,
   "metadata": {},
   "outputs": [],
   "source": [
    "encoder = LabelEncoder()\n",
    "full_data[\"TENURE\"] = encoder.fit_transform(full_data[\"TENURE\"])\n",
    "scaler = StandardScaler()\n",
    "full_data[num_cols] = scaler.fit_transform(full_data[num_cols])"
   ]
  },
  {
   "cell_type": "code",
   "execution_count": 41,
   "metadata": {
    "scrolled": true
   },
   "outputs": [],
   "source": [
    "#full_data"
   ]
  },
  {
   "cell_type": "code",
   "execution_count": 35,
   "metadata": {},
   "outputs": [],
   "source": [
    "#full_data[:2154048]"
   ]
  },
  {
   "cell_type": "code",
   "execution_count": 37,
   "metadata": {},
   "outputs": [],
   "source": [
    "X_data = full_data[:2154048]\n",
    "X_data_test = full_data[2154048:]"
   ]
  },
  {
   "cell_type": "code",
   "execution_count": 28,
   "metadata": {},
   "outputs": [
    {
     "data": {
      "text/plain": [
       "(2154048, 19)"
      ]
     },
     "execution_count": 28,
     "metadata": {},
     "output_type": "execute_result"
    }
   ],
   "source": [
    "train.shape"
   ]
  },
  {
   "cell_type": "code",
   "execution_count": 36,
   "metadata": {},
   "outputs": [
    {
     "data": {
      "text/plain": [
       "(2154048, 14)"
      ]
     },
     "execution_count": 36,
     "metadata": {},
     "output_type": "execute_result"
    }
   ],
   "source": [
    "X_data.shape"
   ]
  },
  {
   "cell_type": "code",
   "execution_count": 38,
   "metadata": {},
   "outputs": [
    {
     "data": {
      "text/plain": [
       "(380127, 14)"
      ]
     },
     "execution_count": 38,
     "metadata": {},
     "output_type": "execute_result"
    }
   ],
   "source": [
    "X_data_test.shape"
   ]
  },
  {
   "cell_type": "code",
   "execution_count": 39,
   "metadata": {},
   "outputs": [
    {
     "data": {
      "text/plain": [
       "(380127, 17)"
      ]
     },
     "execution_count": 39,
     "metadata": {},
     "output_type": "execute_result"
    }
   ],
   "source": [
    "test.shape"
   ]
  },
  {
   "cell_type": "code",
   "execution_count": 40,
   "metadata": {},
   "outputs": [
    {
     "data": {
      "text/plain": [
       "(2154048,)"
      ]
     },
     "execution_count": 40,
     "metadata": {},
     "output_type": "execute_result"
    }
   ],
   "source": [
    "y.shape"
   ]
  },
  {
   "cell_type": "code",
   "execution_count": 42,
   "metadata": {},
   "outputs": [
    {
     "name": "stdout",
     "output_type": "stream",
     "text": [
      "(1077024, 14)\n",
      "(1077024,)\n",
      "(1077024, 14)\n",
      "(1077024,)\n"
     ]
    }
   ],
   "source": [
    "X_train,X_test,y_train,y_test = train_test_split(X_data,y,test_size = 0.5,random_state=1)\n",
    "print(X_train.shape)\n",
    "print(y_train.shape)\n",
    "\n",
    "print(X_test.shape)\n",
    "print(y_test.shape)"
   ]
  },
  {
   "cell_type": "code",
   "execution_count": 43,
   "metadata": {},
   "outputs": [],
   "source": [
    "X_train,X_val,y_train,y_val = train_test_split(X_train,y_train,test_size = 0.3, random_state=1)"
   ]
  },
  {
   "cell_type": "markdown",
   "metadata": {},
   "source": [
    "### Models"
   ]
  },
  {
   "cell_type": "code",
   "execution_count": 44,
   "metadata": {},
   "outputs": [],
   "source": [
    "import xgboost\n",
    "model1 = xgboost.XGBRegressor(colsample_bytree=0.4,\n",
    "                 gamma=0,                 \n",
    "                 learning_rate=0.01,\n",
    "                 max_depth=3,\n",
    "                 min_child_weight=1.5,\n",
    "                 n_estimators=1000,                                                                    \n",
    "                 reg_alpha=0.25,\n",
    "                 reg_lambda=0.75,\n",
    "                 subsample=0.6,\n",
    "                 seed=42) \n",
    "#model3.fit(X_train, y_train)"
   ]
  },
  {
   "cell_type": "code",
   "execution_count": 51,
   "metadata": {},
   "outputs": [],
   "source": [
    "model2 = xgboost.XGBClassifier(colsample_bytree=0.4,\n",
    "                 gamma=0,                 \n",
    "                 learning_rate=0.01,\n",
    "                 max_depth=3,\n",
    "                 min_child_weight=1.5,\n",
    "                 n_estimators=1000,                                                                    \n",
    "                 reg_alpha=0.25,\n",
    "                 reg_lambda=0.75,\n",
    "                 subsample=0.6,\n",
    "                 seed=42) "
   ]
  },
  {
   "cell_type": "markdown",
   "metadata": {},
   "source": [
    "### Fitting and predicting"
   ]
  },
  {
   "cell_type": "code",
   "execution_count": 45,
   "metadata": {},
   "outputs": [],
   "source": [
    "xgboost_model = model1.fit(X_train,y_train)"
   ]
  },
  {
   "cell_type": "code",
   "execution_count": 46,
   "metadata": {},
   "outputs": [],
   "source": [
    "xgboost_pred_ = xgboost_model.predict(X_test)"
   ]
  },
  {
   "cell_type": "code",
   "execution_count": 52,
   "metadata": {},
   "outputs": [],
   "source": [
    "xgboost_model2 = model2.fit(X_train,y_train)"
   ]
  },
  {
   "cell_type": "code",
   "execution_count": 53,
   "metadata": {},
   "outputs": [],
   "source": [
    "xgboost_pred_2 = xgboost_model2.predict_proba(X_test)"
   ]
  },
  {
   "cell_type": "code",
   "execution_count": 59,
   "metadata": {},
   "outputs": [
    {
     "data": {
      "text/plain": [
       "array([0.00416341, 0.02904859, 0.1764024 , ..., 0.7199972 , 0.00721025,\n",
       "       0.21161476], dtype=float32)"
      ]
     },
     "execution_count": 59,
     "metadata": {},
     "output_type": "execute_result"
    }
   ],
   "source": [
    "xgboost_pred_2[:,1]"
   ]
  },
  {
   "cell_type": "code",
   "execution_count": 57,
   "metadata": {},
   "outputs": [],
   "source": [
    "#xgboost_pred_"
   ]
  },
  {
   "cell_type": "markdown",
   "metadata": {},
   "source": [
    "### training on whole data"
   ]
  },
  {
   "cell_type": "code",
   "execution_count": 60,
   "metadata": {},
   "outputs": [],
   "source": [
    "xgboost_model2_whole_data = model2.fit(X_data,y)"
   ]
  },
  {
   "cell_type": "code",
   "execution_count": 61,
   "metadata": {},
   "outputs": [],
   "source": [
    "subpred = xgboost_model2_whole_data.predict_proba(X_data_test)"
   ]
  },
  {
   "cell_type": "code",
   "execution_count": 69,
   "metadata": {},
   "outputs": [],
   "source": [
    "subpred_ = subpred[:,0]"
   ]
  },
  {
   "cell_type": "code",
   "execution_count": 75,
   "metadata": {},
   "outputs": [],
   "source": [
    "subpred_1 = subpred[:,1]"
   ]
  },
  {
   "cell_type": "code",
   "execution_count": 71,
   "metadata": {},
   "outputs": [],
   "source": [
    "submission[\"CHURN\"] = subpred_"
   ]
  },
  {
   "cell_type": "code",
   "execution_count": 74,
   "metadata": {},
   "outputs": [],
   "source": [
    "submission.to_csv('xgboost_submission_proba1.csv', index=False)"
   ]
  },
  {
   "cell_type": "code",
   "execution_count": 76,
   "metadata": {},
   "outputs": [
    {
     "data": {
      "text/plain": [
       "array([0.01360905, 0.03301858, 0.00985883, ..., 0.06793969, 0.0357008 ,\n",
       "       0.12041467], dtype=float32)"
      ]
     },
     "execution_count": 76,
     "metadata": {},
     "output_type": "execute_result"
    }
   ],
   "source": [
    "subpred_1"
   ]
  },
  {
   "cell_type": "code",
   "execution_count": 77,
   "metadata": {},
   "outputs": [],
   "source": [
    "sbt = submission"
   ]
  },
  {
   "cell_type": "markdown",
   "metadata": {},
   "source": [
    "#### this prediction scored 0.29"
   ]
  },
  {
   "cell_type": "code",
   "execution_count": 79,
   "metadata": {},
   "outputs": [],
   "source": [
    "sbt[\"CHURN\"] = subpred_1"
   ]
  },
  {
   "cell_type": "code",
   "execution_count": 81,
   "metadata": {},
   "outputs": [],
   "source": [
    "sbt.to_csv('xgboost_submission_proba0.csv', index=False)"
   ]
  },
  {
   "cell_type": "markdown",
   "metadata": {},
   "source": [
    "# --------------the end-----------------"
   ]
  },
  {
   "cell_type": "markdown",
   "metadata": {},
   "source": [
    "### Light GBM"
   ]
  },
  {
   "cell_type": "code",
   "execution_count": 86,
   "metadata": {},
   "outputs": [],
   "source": [
    "import lightgbm as lgb\n",
    "model3 = lgb.LGBMClassifier()\n",
    "#clf.fit(X_train, y_train)"
   ]
  },
  {
   "cell_type": "code",
   "execution_count": 87,
   "metadata": {},
   "outputs": [],
   "source": [
    "lightGBM_model = model3.fit(X_train,y_train)"
   ]
  },
  {
   "cell_type": "code",
   "execution_count": 88,
   "metadata": {},
   "outputs": [],
   "source": [
    "lightGBM_pred = lightGBM_model.predict_proba(X_test)"
   ]
  },
  {
   "cell_type": "code",
   "execution_count": 90,
   "metadata": {},
   "outputs": [],
   "source": [
    "lightGBM_model_whole_data = model3.fit(X_data,y)"
   ]
  },
  {
   "cell_type": "code",
   "execution_count": 91,
   "metadata": {},
   "outputs": [],
   "source": [
    "subpred_3 = lightGBM_model_whole_data.predict_proba(X_data_test)"
   ]
  },
  {
   "cell_type": "code",
   "execution_count": 98,
   "metadata": {},
   "outputs": [],
   "source": [
    "sbt3 = submission"
   ]
  },
  {
   "cell_type": "code",
   "execution_count": 99,
   "metadata": {},
   "outputs": [
    {
     "data": {
      "text/plain": [
       "array([[0.99160457, 0.00839543],\n",
       "       [0.97544835, 0.02455165],\n",
       "       [0.9901419 , 0.0098581 ],\n",
       "       ...,\n",
       "       [0.86929222, 0.13070778],\n",
       "       [0.94889987, 0.05110013],\n",
       "       [0.8623057 , 0.1376943 ]])"
      ]
     },
     "execution_count": 99,
     "metadata": {},
     "output_type": "execute_result"
    }
   ],
   "source": [
    "subpred_3"
   ]
  },
  {
   "cell_type": "code",
   "execution_count": 100,
   "metadata": {},
   "outputs": [],
   "source": [
    "sbt3[\"CHURN\"] = subpred_3[:,1]"
   ]
  },
  {
   "cell_type": "code",
   "execution_count": 102,
   "metadata": {},
   "outputs": [],
   "source": [
    "sbt3.to_csv('lightGBM_submission_proba0.csv', index=False)"
   ]
  },
  {
   "cell_type": "code",
   "execution_count": 101,
   "metadata": {},
   "outputs": [
    {
     "data": {
      "text/html": [
       "<div>\n",
       "<style scoped>\n",
       "    .dataframe tbody tr th:only-of-type {\n",
       "        vertical-align: middle;\n",
       "    }\n",
       "\n",
       "    .dataframe tbody tr th {\n",
       "        vertical-align: top;\n",
       "    }\n",
       "\n",
       "    .dataframe thead th {\n",
       "        text-align: right;\n",
       "    }\n",
       "</style>\n",
       "<table border=\"1\" class=\"dataframe\">\n",
       "  <thead>\n",
       "    <tr style=\"text-align: right;\">\n",
       "      <th></th>\n",
       "      <th>user_id</th>\n",
       "      <th>CHURN</th>\n",
       "    </tr>\n",
       "  </thead>\n",
       "  <tbody>\n",
       "    <tr>\n",
       "      <th>0</th>\n",
       "      <td>00001dbe00e56fc4b1c1b65dda63de2a5ece55f9</td>\n",
       "      <td>0.008395</td>\n",
       "    </tr>\n",
       "    <tr>\n",
       "      <th>1</th>\n",
       "      <td>000055d41c8a62052dd426592e8a4a3342bf565d</td>\n",
       "      <td>0.024552</td>\n",
       "    </tr>\n",
       "    <tr>\n",
       "      <th>2</th>\n",
       "      <td>000081dd3245e6869a4a9c574c7050e7bb84c2c8</td>\n",
       "      <td>0.009858</td>\n",
       "    </tr>\n",
       "    <tr>\n",
       "      <th>3</th>\n",
       "      <td>0000b76d2145d9445d9ff6b65c9ebc4196c89337</td>\n",
       "      <td>0.304711</td>\n",
       "    </tr>\n",
       "    <tr>\n",
       "      <th>4</th>\n",
       "      <td>0000bae5480628cf8fe51ad84bcb39772fc79224</td>\n",
       "      <td>0.282792</td>\n",
       "    </tr>\n",
       "    <tr>\n",
       "      <th>5</th>\n",
       "      <td>0000d5ec4e898355a5607fb327e621403c1d76f6</td>\n",
       "      <td>0.114907</td>\n",
       "    </tr>\n",
       "    <tr>\n",
       "      <th>6</th>\n",
       "      <td>0000ecce03debd39b0703b24b8ce20b8c06f6bd4</td>\n",
       "      <td>0.002804</td>\n",
       "    </tr>\n",
       "    <tr>\n",
       "      <th>7</th>\n",
       "      <td>00010f65a5340264303727655cc554fdfd0da8f2</td>\n",
       "      <td>0.051299</td>\n",
       "    </tr>\n",
       "    <tr>\n",
       "      <th>8</th>\n",
       "      <td>000143f911b80a025ccd6a6e5425834b1ae17642</td>\n",
       "      <td>0.008562</td>\n",
       "    </tr>\n",
       "    <tr>\n",
       "      <th>9</th>\n",
       "      <td>0001488ec950d9b3502295d00f96099bc412030b</td>\n",
       "      <td>0.106013</td>\n",
       "    </tr>\n",
       "    <tr>\n",
       "      <th>10</th>\n",
       "      <td>00015babedef955867a39cd602388fe44b3d4362</td>\n",
       "      <td>0.006204</td>\n",
       "    </tr>\n",
       "    <tr>\n",
       "      <th>11</th>\n",
       "      <td>00016eb18b46d23216ec40e2b695f35058a3d362</td>\n",
       "      <td>0.059080</td>\n",
       "    </tr>\n",
       "    <tr>\n",
       "      <th>12</th>\n",
       "      <td>00018b3c67fabb93a334727bf515a0ae04b2a539</td>\n",
       "      <td>0.004086</td>\n",
       "    </tr>\n",
       "    <tr>\n",
       "      <th>13</th>\n",
       "      <td>0001bd7c3921c915ac2157d7dfae0ab67f95aae2</td>\n",
       "      <td>0.282792</td>\n",
       "    </tr>\n",
       "    <tr>\n",
       "      <th>14</th>\n",
       "      <td>0001c72c7b875be57d99d5524adbab00689031b5</td>\n",
       "      <td>0.416615</td>\n",
       "    </tr>\n",
       "    <tr>\n",
       "      <th>15</th>\n",
       "      <td>0001ef331d06fe132174ad03ec0c5d80f27238f5</td>\n",
       "      <td>0.407434</td>\n",
       "    </tr>\n",
       "    <tr>\n",
       "      <th>16</th>\n",
       "      <td>0002cb42bd108de18b450ebcea061464479d1bb3</td>\n",
       "      <td>0.017297</td>\n",
       "    </tr>\n",
       "    <tr>\n",
       "      <th>17</th>\n",
       "      <td>0002df6ff4bc18ef17ed27ee649edb348d6cc9ad</td>\n",
       "      <td>0.084576</td>\n",
       "    </tr>\n",
       "    <tr>\n",
       "      <th>18</th>\n",
       "      <td>0002fa2e0eb2044e3b300ec5f539d2fae44def5e</td>\n",
       "      <td>0.007205</td>\n",
       "    </tr>\n",
       "    <tr>\n",
       "      <th>19</th>\n",
       "      <td>00035aa715684d622a11ec4ee1d7c4796a520f81</td>\n",
       "      <td>0.005134</td>\n",
       "    </tr>\n",
       "    <tr>\n",
       "      <th>20</th>\n",
       "      <td>0003adefc9c45703ff93d3d679b640f78cbaabff</td>\n",
       "      <td>0.491724</td>\n",
       "    </tr>\n",
       "    <tr>\n",
       "      <th>21</th>\n",
       "      <td>0003f6c065f358e72a56a45361231f3cf43d8217</td>\n",
       "      <td>0.491724</td>\n",
       "    </tr>\n",
       "    <tr>\n",
       "      <th>22</th>\n",
       "      <td>000440a3de2f7d87f7348630c14b4999acb53ca7</td>\n",
       "      <td>0.630684</td>\n",
       "    </tr>\n",
       "    <tr>\n",
       "      <th>23</th>\n",
       "      <td>0004ab7123871f928259070508826576c4ffff12</td>\n",
       "      <td>0.003743</td>\n",
       "    </tr>\n",
       "    <tr>\n",
       "      <th>24</th>\n",
       "      <td>0004f4f8fa7ba5a8057b2120dfcdc4ef3295a2bd</td>\n",
       "      <td>0.427681</td>\n",
       "    </tr>\n",
       "    <tr>\n",
       "      <th>25</th>\n",
       "      <td>0005470ef1391f2cf7f88a726c8cc6e8c5582abe</td>\n",
       "      <td>0.734748</td>\n",
       "    </tr>\n",
       "    <tr>\n",
       "      <th>26</th>\n",
       "      <td>00054c37a523736cdf445ccb0a0c4c80955acb9a</td>\n",
       "      <td>0.011084</td>\n",
       "    </tr>\n",
       "    <tr>\n",
       "      <th>27</th>\n",
       "      <td>0005681c2bc586d4dbb214a37988c67856b198d5</td>\n",
       "      <td>0.228773</td>\n",
       "    </tr>\n",
       "    <tr>\n",
       "      <th>28</th>\n",
       "      <td>00057f2db69339421b802ca81cb411740e2bc6ff</td>\n",
       "      <td>0.442104</td>\n",
       "    </tr>\n",
       "    <tr>\n",
       "      <th>29</th>\n",
       "      <td>000581a14314d0f1e9eab0d7b14516a212f9dd1a</td>\n",
       "      <td>0.004726</td>\n",
       "    </tr>\n",
       "    <tr>\n",
       "      <th>...</th>\n",
       "      <td>...</td>\n",
       "      <td>...</td>\n",
       "    </tr>\n",
       "    <tr>\n",
       "      <th>380097</th>\n",
       "      <td>fff9efc2a76b39c340b440dccac141f2e2add73d</td>\n",
       "      <td>0.404173</td>\n",
       "    </tr>\n",
       "    <tr>\n",
       "      <th>380098</th>\n",
       "      <td>fff9f198b5b0bfeaea785b8e21194ecb28da0b6a</td>\n",
       "      <td>0.046479</td>\n",
       "    </tr>\n",
       "    <tr>\n",
       "      <th>380099</th>\n",
       "      <td>fff9fb08eea319048604f24c5fa2c974f25f746f</td>\n",
       "      <td>0.054230</td>\n",
       "    </tr>\n",
       "    <tr>\n",
       "      <th>380100</th>\n",
       "      <td>fffa29d59a4c541a09724bab2594a1b1bcccc2e9</td>\n",
       "      <td>0.015260</td>\n",
       "    </tr>\n",
       "    <tr>\n",
       "      <th>380101</th>\n",
       "      <td>fffaa4d195d641f960d2fc93d8315b394826e1ee</td>\n",
       "      <td>0.248143</td>\n",
       "    </tr>\n",
       "    <tr>\n",
       "      <th>380102</th>\n",
       "      <td>fffab1cf908aed8606e2611d4a68ee00ba71d632</td>\n",
       "      <td>0.113984</td>\n",
       "    </tr>\n",
       "    <tr>\n",
       "      <th>380103</th>\n",
       "      <td>fffac02e5a47b47fcc7cd529240b89e054935fca</td>\n",
       "      <td>0.078465</td>\n",
       "    </tr>\n",
       "    <tr>\n",
       "      <th>380104</th>\n",
       "      <td>fffaca4d0ff7e3f389733fc0a6eac9c5a09a2a39</td>\n",
       "      <td>0.001301</td>\n",
       "    </tr>\n",
       "    <tr>\n",
       "      <th>380105</th>\n",
       "      <td>fffacb5b889b4773fcd01449825943c214d5f925</td>\n",
       "      <td>0.073676</td>\n",
       "    </tr>\n",
       "    <tr>\n",
       "      <th>380106</th>\n",
       "      <td>fffb391f9d6b72f9f897c57596b672b300888ade</td>\n",
       "      <td>0.010950</td>\n",
       "    </tr>\n",
       "    <tr>\n",
       "      <th>380107</th>\n",
       "      <td>fffb477a63fb1a9713a3b49f77c71106adff5c27</td>\n",
       "      <td>0.810700</td>\n",
       "    </tr>\n",
       "    <tr>\n",
       "      <th>380108</th>\n",
       "      <td>fffb667b4fca6e5a9917c72dcd792ef923275cbe</td>\n",
       "      <td>0.170621</td>\n",
       "    </tr>\n",
       "    <tr>\n",
       "      <th>380109</th>\n",
       "      <td>fffbc5d19f101b413870a0fd3e1834898471d2d0</td>\n",
       "      <td>0.025247</td>\n",
       "    </tr>\n",
       "    <tr>\n",
       "      <th>380110</th>\n",
       "      <td>fffbd006e779f0f6c33266095781cc6fc3e11984</td>\n",
       "      <td>0.734748</td>\n",
       "    </tr>\n",
       "    <tr>\n",
       "      <th>380111</th>\n",
       "      <td>fffc3f92fbd3a959b45e4ea0352298629736aa0d</td>\n",
       "      <td>0.010820</td>\n",
       "    </tr>\n",
       "    <tr>\n",
       "      <th>380112</th>\n",
       "      <td>fffc94ae15d45c4a9b63311b74c3e4d7f13b0a14</td>\n",
       "      <td>0.072446</td>\n",
       "    </tr>\n",
       "    <tr>\n",
       "      <th>380113</th>\n",
       "      <td>fffcc491e0f09bc56213e77820a26e8a294a9cef</td>\n",
       "      <td>0.038290</td>\n",
       "    </tr>\n",
       "    <tr>\n",
       "      <th>380114</th>\n",
       "      <td>fffd001329be40a6ed312c5b9c3467bb49972b48</td>\n",
       "      <td>0.046600</td>\n",
       "    </tr>\n",
       "    <tr>\n",
       "      <th>380115</th>\n",
       "      <td>fffd194a885e780541575d71136f711630064e33</td>\n",
       "      <td>0.003071</td>\n",
       "    </tr>\n",
       "    <tr>\n",
       "      <th>380116</th>\n",
       "      <td>fffd311a0109895c45843a9b2343aed63025883d</td>\n",
       "      <td>0.630684</td>\n",
       "    </tr>\n",
       "    <tr>\n",
       "      <th>380117</th>\n",
       "      <td>fffd954647f34b38b527dd2dfbfecb49edbdf8f7</td>\n",
       "      <td>0.005334</td>\n",
       "    </tr>\n",
       "    <tr>\n",
       "      <th>380118</th>\n",
       "      <td>fffe4dfd57392c8d7ddfd48cb51bef3c8adb0892</td>\n",
       "      <td>0.304170</td>\n",
       "    </tr>\n",
       "    <tr>\n",
       "      <th>380119</th>\n",
       "      <td>fffe51167f1ad1bf26dda45ccfc40b5d7fab8384</td>\n",
       "      <td>0.001379</td>\n",
       "    </tr>\n",
       "    <tr>\n",
       "      <th>380120</th>\n",
       "      <td>fffe5c84e3db939182ee2a3a3123920025eca8a3</td>\n",
       "      <td>0.004035</td>\n",
       "    </tr>\n",
       "    <tr>\n",
       "      <th>380121</th>\n",
       "      <td>fffe7c538a7d66446ee6f66c0b11b5446ec1be68</td>\n",
       "      <td>0.019310</td>\n",
       "    </tr>\n",
       "    <tr>\n",
       "      <th>380122</th>\n",
       "      <td>fffe7e03c7eede2ad0a728ee516c4d342dd16107</td>\n",
       "      <td>0.005578</td>\n",
       "    </tr>\n",
       "    <tr>\n",
       "      <th>380123</th>\n",
       "      <td>fffec230e6a1aa51ab37d0051ece42de611e71c6</td>\n",
       "      <td>0.734748</td>\n",
       "    </tr>\n",
       "    <tr>\n",
       "      <th>380124</th>\n",
       "      <td>ffff0dcc1ab9812bf205b6d76e9d084053cd96f5</td>\n",
       "      <td>0.130708</td>\n",
       "    </tr>\n",
       "    <tr>\n",
       "      <th>380125</th>\n",
       "      <td>ffff91ea6a09a0c8ea42bc6ae33df4b5e06283dc</td>\n",
       "      <td>0.051100</td>\n",
       "    </tr>\n",
       "    <tr>\n",
       "      <th>380126</th>\n",
       "      <td>ffffb393b346f5348034e6e22be93778d94d4beb</td>\n",
       "      <td>0.137694</td>\n",
       "    </tr>\n",
       "  </tbody>\n",
       "</table>\n",
       "<p>380127 rows × 2 columns</p>\n",
       "</div>"
      ],
      "text/plain": [
       "                                         user_id     CHURN\n",
       "0       00001dbe00e56fc4b1c1b65dda63de2a5ece55f9  0.008395\n",
       "1       000055d41c8a62052dd426592e8a4a3342bf565d  0.024552\n",
       "2       000081dd3245e6869a4a9c574c7050e7bb84c2c8  0.009858\n",
       "3       0000b76d2145d9445d9ff6b65c9ebc4196c89337  0.304711\n",
       "4       0000bae5480628cf8fe51ad84bcb39772fc79224  0.282792\n",
       "5       0000d5ec4e898355a5607fb327e621403c1d76f6  0.114907\n",
       "6       0000ecce03debd39b0703b24b8ce20b8c06f6bd4  0.002804\n",
       "7       00010f65a5340264303727655cc554fdfd0da8f2  0.051299\n",
       "8       000143f911b80a025ccd6a6e5425834b1ae17642  0.008562\n",
       "9       0001488ec950d9b3502295d00f96099bc412030b  0.106013\n",
       "10      00015babedef955867a39cd602388fe44b3d4362  0.006204\n",
       "11      00016eb18b46d23216ec40e2b695f35058a3d362  0.059080\n",
       "12      00018b3c67fabb93a334727bf515a0ae04b2a539  0.004086\n",
       "13      0001bd7c3921c915ac2157d7dfae0ab67f95aae2  0.282792\n",
       "14      0001c72c7b875be57d99d5524adbab00689031b5  0.416615\n",
       "15      0001ef331d06fe132174ad03ec0c5d80f27238f5  0.407434\n",
       "16      0002cb42bd108de18b450ebcea061464479d1bb3  0.017297\n",
       "17      0002df6ff4bc18ef17ed27ee649edb348d6cc9ad  0.084576\n",
       "18      0002fa2e0eb2044e3b300ec5f539d2fae44def5e  0.007205\n",
       "19      00035aa715684d622a11ec4ee1d7c4796a520f81  0.005134\n",
       "20      0003adefc9c45703ff93d3d679b640f78cbaabff  0.491724\n",
       "21      0003f6c065f358e72a56a45361231f3cf43d8217  0.491724\n",
       "22      000440a3de2f7d87f7348630c14b4999acb53ca7  0.630684\n",
       "23      0004ab7123871f928259070508826576c4ffff12  0.003743\n",
       "24      0004f4f8fa7ba5a8057b2120dfcdc4ef3295a2bd  0.427681\n",
       "25      0005470ef1391f2cf7f88a726c8cc6e8c5582abe  0.734748\n",
       "26      00054c37a523736cdf445ccb0a0c4c80955acb9a  0.011084\n",
       "27      0005681c2bc586d4dbb214a37988c67856b198d5  0.228773\n",
       "28      00057f2db69339421b802ca81cb411740e2bc6ff  0.442104\n",
       "29      000581a14314d0f1e9eab0d7b14516a212f9dd1a  0.004726\n",
       "...                                          ...       ...\n",
       "380097  fff9efc2a76b39c340b440dccac141f2e2add73d  0.404173\n",
       "380098  fff9f198b5b0bfeaea785b8e21194ecb28da0b6a  0.046479\n",
       "380099  fff9fb08eea319048604f24c5fa2c974f25f746f  0.054230\n",
       "380100  fffa29d59a4c541a09724bab2594a1b1bcccc2e9  0.015260\n",
       "380101  fffaa4d195d641f960d2fc93d8315b394826e1ee  0.248143\n",
       "380102  fffab1cf908aed8606e2611d4a68ee00ba71d632  0.113984\n",
       "380103  fffac02e5a47b47fcc7cd529240b89e054935fca  0.078465\n",
       "380104  fffaca4d0ff7e3f389733fc0a6eac9c5a09a2a39  0.001301\n",
       "380105  fffacb5b889b4773fcd01449825943c214d5f925  0.073676\n",
       "380106  fffb391f9d6b72f9f897c57596b672b300888ade  0.010950\n",
       "380107  fffb477a63fb1a9713a3b49f77c71106adff5c27  0.810700\n",
       "380108  fffb667b4fca6e5a9917c72dcd792ef923275cbe  0.170621\n",
       "380109  fffbc5d19f101b413870a0fd3e1834898471d2d0  0.025247\n",
       "380110  fffbd006e779f0f6c33266095781cc6fc3e11984  0.734748\n",
       "380111  fffc3f92fbd3a959b45e4ea0352298629736aa0d  0.010820\n",
       "380112  fffc94ae15d45c4a9b63311b74c3e4d7f13b0a14  0.072446\n",
       "380113  fffcc491e0f09bc56213e77820a26e8a294a9cef  0.038290\n",
       "380114  fffd001329be40a6ed312c5b9c3467bb49972b48  0.046600\n",
       "380115  fffd194a885e780541575d71136f711630064e33  0.003071\n",
       "380116  fffd311a0109895c45843a9b2343aed63025883d  0.630684\n",
       "380117  fffd954647f34b38b527dd2dfbfecb49edbdf8f7  0.005334\n",
       "380118  fffe4dfd57392c8d7ddfd48cb51bef3c8adb0892  0.304170\n",
       "380119  fffe51167f1ad1bf26dda45ccfc40b5d7fab8384  0.001379\n",
       "380120  fffe5c84e3db939182ee2a3a3123920025eca8a3  0.004035\n",
       "380121  fffe7c538a7d66446ee6f66c0b11b5446ec1be68  0.019310\n",
       "380122  fffe7e03c7eede2ad0a728ee516c4d342dd16107  0.005578\n",
       "380123  fffec230e6a1aa51ab37d0051ece42de611e71c6  0.734748\n",
       "380124  ffff0dcc1ab9812bf205b6d76e9d084053cd96f5  0.130708\n",
       "380125  ffff91ea6a09a0c8ea42bc6ae33df4b5e06283dc  0.051100\n",
       "380126  ffffb393b346f5348034e6e22be93778d94d4beb  0.137694\n",
       "\n",
       "[380127 rows x 2 columns]"
      ]
     },
     "execution_count": 101,
     "metadata": {},
     "output_type": "execute_result"
    }
   ],
   "source": [
    "sbt3"
   ]
  },
  {
   "cell_type": "markdown",
   "metadata": {},
   "source": [
    "#### Artificial Neural Network"
   ]
  },
  {
   "cell_type": "code",
   "execution_count": 106,
   "metadata": {},
   "outputs": [
    {
     "name": "stdout",
     "output_type": "stream",
     "text": [
      "0    1750062\n",
      "1     403986\n",
      "Name: CHURN, dtype: int64\n"
     ]
    },
    {
     "data": {
      "text/plain": [
       "Text(0.5, 0, 'Churn')"
      ]
     },
     "execution_count": 106,
     "metadata": {},
     "output_type": "execute_result"
    },
    {
     "data": {
      "image/png": "[encoded data removed]",
      "text/plain": [
       "<Figure size 720x360 with 1 Axes>"
      ]
     },
     "metadata": {
      "needs_background": "light"
     },
     "output_type": "display_data"
    }
   ],
   "source": [
    "#Check if the predictor class is balanced \n",
    "print(y.value_counts())\n",
    "plt.figure(figsize=(10,5))\n",
    "y.value_counts(normalize=True).plot(kind='bar')\n",
    "plt.ylabel('counts')\n",
    "plt.xlabel('Churn')"
   ]
  },
  {
   "cell_type": "code",
   "execution_count": null,
   "metadata": {},
   "outputs": [],
   "source": []
  },
  {
   "cell_type": "code",
   "execution_count": 107,
   "metadata": {},
   "outputs": [],
   "source": [
    "import lightgbm as lgb\n",
    "model4 = lgb.LGBMClassifier(boosting_type='dart', \n",
    "                            num_leaves=50,\n",
    "                            max_depth=3, \n",
    "                            learning_rate=0.001,\n",
    "                            n_estimators=10000, \n",
    "                            subsample_for_bin=200000, \n",
    "                            objective=None,\n",
    "                            class_weight=None, \n",
    "                            min_split_gain=0.0, \n",
    "                            min_child_weight=0.001, \n",
    "                            min_child_samples=20,\n",
    "                            subsample=1.0,\n",
    "                            subsample_freq=0, \n",
    "                            colsample_bytree=1.0,\n",
    "                            reg_alpha=0.0, \n",
    "                            reg_lambda=0.0, \n",
    "                            random_state=None, \n",
    "                            n_jobs=-1, \n",
    "                            silent=True,\n",
    "                            importance_type='split')\n",
    "#clf.fit(X_train, y_train)"
   ]
  },
  {
   "cell_type": "code",
   "execution_count": 109,
   "metadata": {},
   "outputs": [],
   "source": [
    "lightGBM_model2 = model4.fit(X_train,y_train)"
   ]
  },
  {
   "cell_type": "code",
   "execution_count": null,
   "metadata": {},
   "outputs": [],
   "source": [
    "lightGBM_pred2 = lightGBM_model2.predict_proba(X_test)"
   ]
  },
  {
   "cell_type": "code",
   "execution_count": 111,
   "metadata": {},
   "outputs": [],
   "source": [
    "lightGBM_model_whole_data2 = model4.fit(X_data,y)"
   ]
  },
  {
   "cell_type": "code",
   "execution_count": null,
   "metadata": {},
   "outputs": [],
   "source": [
    "subpred_4 = lightGBM_model_whole_data2.predict_proba(X_data_test)"
   ]
  },
  {
   "cell_type": "code",
   "execution_count": null,
   "metadata": {},
   "outputs": [],
   "source": [
    "sbt4= submission"
   ]
  },
  {
   "cell_type": "code",
   "execution_count": null,
   "metadata": {},
   "outputs": [],
   "source": [
    "sbt4[\"CHURN\"] = subpred_4[:,1]"
   ]
  },
  {
   "cell_type": "code",
   "execution_count": null,
   "metadata": {},
   "outputs": [],
   "source": [
    "sbt4.to_csv('lightGBM_parameters_tuned.csv', index=False)"
   ]
  },
  {
   "cell_type": "code",
   "execution_count": null,
   "metadata": {},
   "outputs": [],
   "source": []
  }
 ],
 "metadata": {
  "kernelspec": {
   "display_name": "Python 3",
   "language": "python",
   "name": "python3"
  },
  "language_info": {
   "codemirror_mode": {
    "name": "ipython",
    "version": 3
   },
   "file_extension": ".py",
   "mimetype": "text/x-python",
   "name": "python",
   "nbconvert_exporter": "python",
   "pygments_lexer": "ipython3",
   "version": "3.7.3"
  }
 },
 "nbformat": 4,
 "nbformat_minor": 2
}
